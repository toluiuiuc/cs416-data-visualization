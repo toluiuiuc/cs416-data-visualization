{
 "cells": [
  {
   "cell_type": "code",
   "execution_count": 1,
   "metadata": {},
   "outputs": [],
   "source": [
    "import pandas as pd\n",
    "import datetime\n",
    "import numpy as np"
   ]
  },
  {
   "cell_type": "code",
   "execution_count": 49,
   "metadata": {},
   "outputs": [],
   "source": [
    "def cal_yoy(df, col):\n",
    "    return df[col] / df[col + \"_prev\"] - 1"
   ]
  },
  {
   "cell_type": "code",
   "execution_count": 61,
   "metadata": {},
   "outputs": [],
   "source": [
    "# State Name Mapping\n",
    "df_states = pd.read_csv(\"proc_data/statename_mapping.csv\")"
   ]
  },
  {
   "cell_type": "code",
   "execution_count": 3,
   "metadata": {},
   "outputs": [],
   "source": [
    "df_mortgage = pd.read_csv(\"raw_data/MORTGAGE30US.csv\")"
   ]
  },
  {
   "cell_type": "code",
   "execution_count": 55,
   "metadata": {},
   "outputs": [],
   "source": [
    "# Since 2018\n",
    "df_filtered_mortgage = df_mortgage[173:]\n",
    "df_filtered_mortgage = df_filtered_mortgage.rename(\n",
    "    {\"DATE\": \"date\", \"MORTGAGE30US\": \"value\"}, axis=1\n",
    ")\n",
    "df_filtered_mortgage[\"yrmth\"] = df_filtered_mortgage[\"date\"].apply(lambda x: x[:7])\n",
    "df_filtered_mortgage = df_filtered_mortgage.groupby([\"yrmth\"])[\"value\"].mean().reset_index()\n",
    "df_filtered_mortgage = df_filtered_mortgage.rename(\n",
    "    {\"yrmth\": \"date\"}, axis=1\n",
    ")\n",
    "df_filtered_mortgage[\"value\"] = round(df_filtered_mortgage[\"value\"] / 100, 4)\n",
    "df_filtered_mortgage[\"date\"] = df_filtered_mortgage[\"date\"].apply(lambda x: x + \"-01\")\n",
    "\n",
    "df_filtered_mortgage[\"value_prev\"] = df_filtered_mortgage[\"value\"].shift(12)\n",
    "\n",
    "df_filtered_mortgage[\"yoy\"] = cal_yoy(df_filtered_mortgage, \"value\")\n"
   ]
  },
  {
   "cell_type": "code",
   "execution_count": 57,
   "metadata": {},
   "outputs": [],
   "source": [
    "df_filtered_mortgage.to_csv(\"proc_data/MORTGAGE30US_FIL.csv\", index=False)\n"
   ]
  },
  {
   "cell_type": "code",
   "execution_count": 38,
   "metadata": {},
   "outputs": [
    {
     "data": {
      "text/html": [
       "<div>\n",
       "<style scoped>\n",
       "    .dataframe tbody tr th:only-of-type {\n",
       "        vertical-align: middle;\n",
       "    }\n",
       "\n",
       "    .dataframe tbody tr th {\n",
       "        vertical-align: top;\n",
       "    }\n",
       "\n",
       "    .dataframe thead th {\n",
       "        text-align: right;\n",
       "    }\n",
       "</style>\n",
       "<table border=\"1\" class=\"dataframe\">\n",
       "  <thead>\n",
       "    <tr style=\"text-align: right;\">\n",
       "      <th></th>\n",
       "      <th>date</th>\n",
       "      <th>value</th>\n",
       "    </tr>\n",
       "  </thead>\n",
       "  <tbody>\n",
       "    <tr>\n",
       "      <th>0</th>\n",
       "      <td>2018-01-01</td>\n",
       "      <td>0.0403</td>\n",
       "    </tr>\n",
       "    <tr>\n",
       "      <th>1</th>\n",
       "      <td>2018-02-01</td>\n",
       "      <td>0.0433</td>\n",
       "    </tr>\n",
       "    <tr>\n",
       "      <th>2</th>\n",
       "      <td>2018-03-01</td>\n",
       "      <td>0.0444</td>\n",
       "    </tr>\n",
       "    <tr>\n",
       "      <th>3</th>\n",
       "      <td>2018-04-01</td>\n",
       "      <td>0.0447</td>\n",
       "    </tr>\n",
       "    <tr>\n",
       "      <th>4</th>\n",
       "      <td>2018-05-01</td>\n",
       "      <td>0.0459</td>\n",
       "    </tr>\n",
       "  </tbody>\n",
       "</table>\n",
       "</div>"
      ],
      "text/plain": [
       "         date   value\n",
       "0  2018-01-01  0.0403\n",
       "1  2018-02-01  0.0433\n",
       "2  2018-03-01  0.0444\n",
       "3  2018-04-01  0.0447\n",
       "4  2018-05-01  0.0459"
      ]
     },
     "execution_count": 38,
     "metadata": {},
     "output_type": "execute_result"
    }
   ],
   "source": [
    "df_filtered_mortgage.head()"
   ]
  },
  {
   "cell_type": "code",
   "execution_count": 43,
   "metadata": {},
   "outputs": [],
   "source": []
  },
  {
   "cell_type": "markdown",
   "metadata": {},
   "source": [
    "## House Inventory"
   ]
  },
  {
   "cell_type": "code",
   "execution_count": 96,
   "metadata": {},
   "outputs": [],
   "source": [
    "# df_house_inv = pd.read_csv(\"house_inventory.csv\")\n",
    "df_house_inv = pd.read_csv(\"raw_data/Metro_invt_fs_uc_sfrcondo_sm_month.csv\")\n"
   ]
  },
  {
   "cell_type": "code",
   "execution_count": 113,
   "metadata": {},
   "outputs": [],
   "source": [
    "df_house_inv_T = df_house_inv.T\n",
    "\n",
    "df_house_inv_proc = pd.DataFrame()\n",
    "\n",
    "for col in df_house_inv_T.columns:\n",
    "    ts = df_house_inv_T[col][5:]\n",
    "    df_ts = ts.to_frame().reset_index()\n",
    "    df_ts.columns = [\"date\", \"inventory\"]\n",
    "    df_ts[\"PostalCode\"] = df_house_inv_T[col][\"StateName\"]\n",
    "    # df_ts[\"inventory_prev\"] = df_ts[\"inventory\"].shift(12)\n",
    "    # df_ts[\"yoy\"] = df_ts[\"inventory\"] / df_ts[\"inventory_prev\"] - 1\n",
    "\n",
    "    df_house_inv_proc = df_house_inv_proc.append(df_ts)\n"
   ]
  },
  {
   "cell_type": "code",
   "execution_count": 114,
   "metadata": {},
   "outputs": [],
   "source": [
    "# df_house_inv_proc[\"state\"] = df_house_inv_proc[\"state\"].fillna(\"United States\")\n",
    "df_house_inv_proc = df_house_inv_proc.merge(\n",
    "    df_states, how=\"left\")\n",
    "df_house_inv_proc[\"StateName\"] = df_house_inv_proc[\"StateName\"].fillna(\n",
    "    \"United States\")\n",
    "df_house_inv_proc = df_house_inv_proc.rename({\n",
    "    \"inventory\": \"value\",\n",
    "}, axis=1)[[\"date\", \"value\", \"StateName\"]]\n",
    "df_house_inv_proc[\"value\"] = df_house_inv_proc[\"value\"].astype(float)\n"
   ]
  },
  {
   "cell_type": "code",
   "execution_count": 115,
   "metadata": {},
   "outputs": [],
   "source": [
    "df_house_inv_proc = df_house_inv_proc.groupby(\n",
    "    [\"date\", \"StateName\"])[\"value\"].sum().reset_index()\n",
    "df_house_inv_proc = df_house_inv_proc.sort_values([\"StateName\", \"date\"])\n",
    "df_house_inv_proc[\"value_prev\"] = df_house_inv_proc.groupby([\"StateName\"])[\n",
    "    \"value\"].shift(12)\n",
    "df_house_inv_proc[\"yoy\"] = cal_yoy(df_house_inv_proc, \"value\")\n"
   ]
  },
  {
   "cell_type": "code",
   "execution_count": 116,
   "metadata": {},
   "outputs": [],
   "source": [
    "df_house_inv_proc.to_csv(\"proc_data/house_inventory.csv\", index=False)\n"
   ]
  },
  {
   "cell_type": "markdown",
   "metadata": {},
   "source": [
    "## ZORI"
   ]
  },
  {
   "cell_type": "code",
   "execution_count": 167,
   "metadata": {},
   "outputs": [],
   "source": [
    "df_zori = pd.read_csv(\"raw_data/Metro_ZORI_AllHomesPlusMultifamily_Smoothed.csv\")\n"
   ]
  },
  {
   "cell_type": "code",
   "execution_count": 168,
   "metadata": {},
   "outputs": [],
   "source": [
    "df_zori_T = df_zori.T\n",
    "\n",
    "df_zori_proc = pd.DataFrame()\n",
    "\n",
    "for col in df_zori_T.columns:\n",
    "    ts = df_zori_T[col][51:]\n",
    "    df_ts = ts.to_frame().reset_index()\n",
    "    df_ts.columns = [\"date\", \"value\"]\n",
    "    df_ts[\"PostalCode\"] = df_zori_T[col][\"RegionName\"].split(\",\")[-1].strip()\n",
    "    df_ts[\"date\"] = df_ts[\"date\"] + \"-01\"\n",
    "    # df_ts[\"inventory_prev\"] = df_ts[\"inventory\"].shift(12)\n",
    "    # df_ts[\"yoy\"] = df_ts[\"inventory\"] / df_ts[\"inventory_prev\"] - 1\n",
    "\n",
    "    df_zori_proc = df_zori_proc.append(df_ts)\n",
    "\n",
    "df_zori_proc[\"value\"] = df_zori_proc[\"value\"].astype(int)\n"
   ]
  },
  {
   "cell_type": "code",
   "execution_count": 156,
   "metadata": {},
   "outputs": [],
   "source": [
    "# df_zori_proc[\"state\"] = df_zori_proc[\"state\"].fillna(\"United States\")\n",
    "df_zori_proc = df_zori_proc.merge(\n",
    "    df_states, how=\"left\")\n",
    "df_zori_proc[\"StateName\"] = df_zori_proc[\"StateName\"].fillna(\n",
    "    \"United States\")\n",
    "df_zori_proc = df_zori_proc.rename({\n",
    "    \"inventory\": \"value\",\n",
    "}, axis=1)[[\"date\", \"value\", \"StateName\"]]\n",
    "df_zori_proc[\"value\"] = df_zori_proc[\"value\"].astype(float)\n"
   ]
  },
  {
   "cell_type": "code",
   "execution_count": 157,
   "metadata": {},
   "outputs": [],
   "source": [
    "df_zori_proc = df_zori_proc.groupby(\n",
    "    [\"date\", \"StateName\"])[\"value\"].mean().reset_index()\n",
    "df_zori_proc = df_zori_proc.sort_values([\"StateName\", \"date\"])\n",
    "df_zori_proc[\"value_prev\"] = df_zori_proc.groupby([\"StateName\"])[\n",
    "    \"value\"].shift(12)\n",
    "df_zori_proc[\"yoy\"] = cal_yoy(df_zori_proc, \"value\")\n"
   ]
  },
  {
   "cell_type": "code",
   "execution_count": 158,
   "metadata": {},
   "outputs": [],
   "source": [
    "df_zori_proc.to_csv(\"proc_data/zori.csv\", index=False)\n"
   ]
  },
  {
   "cell_type": "markdown",
   "metadata": {},
   "source": [
    "## House Value ZHVI"
   ]
  },
  {
   "cell_type": "code",
   "execution_count": 159,
   "metadata": {},
   "outputs": [],
   "source": [
    "df_zhvi = pd.read_csv(\"raw_data/Metro_zhvi_uc_sfrcondo_tier_0.33_0.67_sm_sa_month.csv\")\n"
   ]
  },
  {
   "cell_type": "code",
   "execution_count": 162,
   "metadata": {},
   "outputs": [],
   "source": [
    "df_zhvi_T = df_zhvi.T\n",
    "\n",
    "df_zhvi_proc = pd.DataFrame()\n",
    "\n",
    "for col in df_zhvi_T.columns:\n",
    "    ts = df_zhvi_T[col][221:]\n",
    "    df_ts = ts.to_frame().reset_index()\n",
    "    df_ts.columns = [\"date\", \"value\"]\n",
    "    df_ts[\"PostalCode\"] = df_zhvi_T[col][\"RegionName\"].split(\",\")[-1].strip()\n",
    "    df_ts[\"date\"] = df_ts[\"date\"]\n",
    "    # df_ts[\"inventory_prev\"] = df_ts[\"inventory\"].shift(12)\n",
    "    # df_ts[\"yoy\"] = df_ts[\"inventory\"] / df_ts[\"inventory_prev\"] - 1\n",
    "\n",
    "    df_zhvi_proc = df_zhvi_proc.append(df_ts)\n",
    "\n",
    "df_zhvi_proc = df_zhvi_proc[~df_zhvi_proc[\"value\"].isnull()]\n",
    "df_zhvi_proc[\"value\"] = df_zhvi_proc[\"value\"].astype(int)\n"
   ]
  },
  {
   "cell_type": "code",
   "execution_count": 165,
   "metadata": {},
   "outputs": [],
   "source": [
    "# df_zhvi_proc[\"state\"] = df_zhvi_proc[\"state\"].fillna(\"United States\")\n",
    "df_zhvi_proc = df_zhvi_proc.merge(\n",
    "    df_states, how=\"left\")\n",
    "df_zhvi_proc[\"StateName\"] = df_zhvi_proc[\"StateName\"].fillna(\n",
    "    \"United States\")\n",
    "df_zhvi_proc = df_zhvi_proc.rename({\n",
    "    \"inventory\": \"value\",\n",
    "}, axis=1)[[\"date\", \"value\", \"StateName\"]]\n",
    "df_zhvi_proc[\"value\"] = df_zhvi_proc[\"value\"].astype(float)\n",
    "\n",
    "df_zhvi_proc = df_zhvi_proc.groupby(\n",
    "    [\"date\", \"StateName\"])[\"value\"].mean().reset_index()\n",
    "df_zhvi_proc = df_zhvi_proc.sort_values([\"StateName\", \"date\"])\n",
    "df_zhvi_proc[\"value_prev\"] = df_zhvi_proc.groupby([\"StateName\"])[\n",
    "    \"value\"].shift(12)\n",
    "df_zhvi_proc[\"yoy\"] = cal_yoy(df_zhvi_proc, \"value\")\n"
   ]
  },
  {
   "cell_type": "code",
   "execution_count": 171,
   "metadata": {},
   "outputs": [],
   "source": [
    "df_zhvi_proc.to_csv(\"proc_data/zhvi.csv\", index=False)\n"
   ]
  },
  {
   "cell_type": "code",
   "execution_count": null,
   "metadata": {},
   "outputs": [],
   "source": []
  }
 ],
 "metadata": {
  "kernelspec": {
   "display_name": "Python 3.8.5 ('base')",
   "language": "python",
   "name": "python3"
  },
  "language_info": {
   "codemirror_mode": {
    "name": "ipython",
    "version": 3
   },
   "file_extension": ".py",
   "mimetype": "text/x-python",
   "name": "python",
   "nbconvert_exporter": "python",
   "pygments_lexer": "ipython3",
   "version": "3.8.5"
  },
  "orig_nbformat": 4,
  "vscode": {
   "interpreter": {
    "hash": "b8c0bb826b0a6d814e23aa5e5c30ff79c87019379740d931cfcd76fca69e3581"
   }
  }
 },
 "nbformat": 4,
 "nbformat_minor": 2
}
